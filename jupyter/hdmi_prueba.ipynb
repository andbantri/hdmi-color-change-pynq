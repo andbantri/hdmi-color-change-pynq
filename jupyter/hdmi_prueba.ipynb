{
 "cells": [
  {
   "cell_type": "markdown",
   "metadata": {},
   "source": [
    "# Trabajo SEI\n",
    "Diseño que cambia el color de la imagen de pantalla conectada a HDMI IN al sacar la imagen por HDMI OUT"
   ]
  },
  {
   "cell_type": "code",
   "execution_count": 56,
   "metadata": {},
   "outputs": [],
   "source": [
    "from pynq import Overlay\n",
    "from pynq.lib import AxiGPIO\n",
    "from pynq.lib.video import *\n",
    "\n",
    "#Carga el diseño\n",
    "overlay = Overlay('/home/xilinx/jupyter_notebooks/prueba/video_wrapper.bit')"
   ]
  },
  {
   "cell_type": "code",
   "execution_count": 57,
   "metadata": {},
   "outputs": [
    {
     "name": "stdout",
     "output_type": "stream",
     "text": [
      "SW0: 1\n",
      "SW1: 1\n"
     ]
    }
   ],
   "source": [
    "#Configuramos los switches para decidir si queremos hacer o no el cambio de color\n",
    "#Accede a la IP \n",
    "input_ip = overlay.ip_dict['switches_gpio']\n",
    "\n",
    "#Accede al canal 1 de la IP GPIO\n",
    "ipt = AxiGPIO(input_ip).channel1\n",
    "\n",
    "#Configura el canal como entrada\n",
    "ipt.setdirection(\"in\")\n",
    "\n",
    "#Lee el estado de los switches\n",
    "switches_state = ipt.read()\n",
    "sw0 = switches_state & 0x1  #Extrae el bit 0\n",
    "sw1 = (switches_state >> 1) & 0x1  #Extrae el bit 1\n",
    "\n",
    "print(\"SW0:\", sw0)\n",
    "print(\"SW1:\", sw1)\n",
    "\n"
   ]
  },
  {
   "cell_type": "code",
   "execution_count": 58,
   "metadata": {},
   "outputs": [],
   "source": [
    "#Conexión HDMI\n",
    "hdmi_in = overlay.video.hdmi_in\n",
    "hdmi_out = overlay.video.hdmi_out"
   ]
  },
  {
   "cell_type": "code",
   "execution_count": 59,
   "metadata": {},
   "outputs": [],
   "source": [
    "#Calcula el estado de grayscale basado en los switches - determinará si hacemos o no el cambio de color\n",
    "grayscale = sw0 and sw1\n",
    "\n",
    "#Escribe el valor en el registro de control de color_0\n",
    "color_ip = overlay.video.hdmi_in.color_0  # Acceso al bloque HLS\n",
    "color_ip.write(0x10, int(grayscale))  # Escribe 1 si ambos switches están en 1, 0 de lo contrario\n"
   ]
  },
  {
   "cell_type": "code",
   "execution_count": 60,
   "metadata": {},
   "outputs": [
    {
     "name": "stdout",
     "output_type": "stream",
     "text": [
      "Valor escrito en color_0: 1\n"
     ]
    }
   ],
   "source": [
    "#Para comprobar que la escritura ha sido correcta leemos el valor del registro para verificar lo que se ha escrito\n",
    "valor_escrito = color_ip.read(0x10) \n",
    "print(f\"Valor escrito en color_0: {valor_escrito}\")  "
   ]
  },
  {
   "cell_type": "code",
   "execution_count": 61,
   "metadata": {},
   "outputs": [
    {
     "data": {
      "text/plain": [
       "<contextlib._GeneratorContextManager at 0xafd00050>"
      ]
     },
     "execution_count": 61,
     "metadata": {},
     "output_type": "execute_result"
    }
   ],
   "source": [
    "#Configuramos los hdmi y los iniciamos\n",
    "hdmi_in.configure()\n",
    "hdmi_out.configure(hdmi_in.mode)\n",
    "\n",
    "hdmi_in.start()\n",
    "hdmi_out.start()"
   ]
  },
  {
   "cell_type": "markdown",
   "metadata": {},
   "source": [
    "El monitor debería encenderse y mostrar una pantalla en negro antes de la siguiente linea. Ejecutando la siguiente pasa la entrada a la salida."
   ]
  },
  {
   "cell_type": "code",
   "execution_count": 62,
   "metadata": {},
   "outputs": [],
   "source": [
    "hdmi_in.tie(hdmi_out)"
   ]
  },
  {
   "cell_type": "code",
   "execution_count": 63,
   "metadata": {},
   "outputs": [],
   "source": [
    "#Cerramos la conexión\n",
    "hdmi_out.close()\n",
    "hdmi_in.close()"
   ]
  },
  {
   "cell_type": "code",
   "execution_count": null,
   "metadata": {},
   "outputs": [],
   "source": []
  }
 ],
 "metadata": {
  "kernelspec": {
   "display_name": "Python 3",
   "language": "python",
   "name": "python3"
  },
  "language_info": {
   "codemirror_mode": {
    "name": "ipython",
    "version": 3
   },
   "file_extension": ".py",
   "mimetype": "text/x-python",
   "name": "python",
   "nbconvert_exporter": "python",
   "pygments_lexer": "ipython3",
   "version": "3.6.5"
  }
 },
 "nbformat": 4,
 "nbformat_minor": 2
}
